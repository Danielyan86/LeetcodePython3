{
 "cells": [
  {
   "cell_type": "markdown",
   "id": "e8630491",
   "metadata": {},
   "source": [
    "heap 这个 lib 使用特殊的地方在于他本身不会有返回值，类似一个工厂方法，把传入进去的一个可迭代的数据结构堆话，比如传入一个 list\n",
    "这个时候 list 里面元素顺序会根据堆的性质做调整\n",
    "所以 py 里要初始化一个堆的数据结构很特别，需要先创建一个空的 list，再把他传入 heap 库堆化\n"
   ]
  },
  {
   "cell_type": "code",
   "execution_count": null,
   "id": "2d93fc70",
   "metadata": {},
   "outputs": [],
   "source": [
    "-  heapq item可以是一个tuple，他会根据第一个元素排序\n",
    "- 默认为小堆，也就是无论怎么进入队列，pop出来都是最小的"
   ]
  },
  {
   "cell_type": "code",
   "execution_count": null,
   "id": "6f974de5",
   "metadata": {},
   "outputs": [],
   "source": [
    "\n",
    "import heapq\n",
    "heap=heapq\n",
    "h = []\n",
    "heap.heappush(h, (5,\"A\", 'write code'))\n",
    "heap.heappush(h, (7, \"A\",'release product'))\n",
    "heap.heappush(h, (1,  2,'write spec'))\n",
    "heap.heappush(h, (1,  2,'write spec'))\n",
    "heap.heappush(h, (1,  3,'create tests'))\n",
    "\n",
    "heap.heappop(h)\n"
   ]
  },
  {
   "cell_type": "code",
   "execution_count": null,
   "id": "b43e627f",
   "metadata": {},
   "outputs": [],
   "source": []
  },
  {
   "cell_type": "code",
   "execution_count": null,
   "id": "875a702d",
   "metadata": {},
   "outputs": [],
   "source": [
    "heap.heappop(h)"
   ]
  },
  {
   "cell_type": "code",
   "execution_count": null,
   "id": "282a7b74",
   "metadata": {},
   "outputs": [],
   "source": [
    "heap.heappop(h)"
   ]
  },
  {
   "cell_type": "code",
   "execution_count": 24,
   "id": "e2cdb2ad",
   "metadata": {},
   "outputs": [
    {
     "data": {
      "text/plain": [
       "(5, 6, 7, 'A', 'write code')"
      ]
     },
     "execution_count": 24,
     "metadata": {},
     "output_type": "execute_result"
    }
   ],
   "source": [
    "\n",
    "import heapq\n",
    "heap=heapq\n",
    "h = []\n",
    "heap.heappush(h, (5,6,7,\"A\", 'write code'))\n",
    "\n",
    "heap.heappop(h)\n"
   ]
  },
  {
   "cell_type": "code",
   "execution_count": null,
   "id": "a66216ec",
   "metadata": {},
   "outputs": [],
   "source": []
  }
 ],
 "metadata": {
  "kernelspec": {
   "display_name": "Python 3 (ipykernel)",
   "language": "python",
   "name": "python3"
  },
  "language_info": {
   "codemirror_mode": {
    "name": "ipython",
    "version": 3
   },
   "file_extension": ".py",
   "mimetype": "text/x-python",
   "name": "python",
   "nbconvert_exporter": "python",
   "pygments_lexer": "ipython3",
   "version": "3.9.12"
  }
 },
 "nbformat": 4,
 "nbformat_minor": 5
}
